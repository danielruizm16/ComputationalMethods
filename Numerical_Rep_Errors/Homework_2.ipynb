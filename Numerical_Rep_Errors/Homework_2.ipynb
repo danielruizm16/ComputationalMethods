{
 "cells": [
  {
   "cell_type": "markdown",
   "id": "438920fb",
   "metadata": {},
   "source": [
    "<a href=\"https://colab.research.google.com/github/danielruizm16/ComputationalMethods/blob/main/Basics/Homework_2.ipynb\" target=\"_parent\"><img src=\"https://colab.research.google.com/assets/colab-badge.svg\" alt=\"Open In Colab\"/></a>"
   ]
  },
  {
   "cell_type": "markdown",
   "id": "e9c37ddb",
   "metadata": {},
   "source": [
    "# Homework 02: Numerical Representation, Errors and Stability..\n",
    "\n",
    "---\n",
    "### Teacher: Daniel Ruiz Mejía\n",
    "### Name: ______\n",
    "*Computational Methods 2025-II*\n",
    "\n",
    "---"
   ]
  },
  {
   "cell_type": "markdown",
   "id": "5b31a74f",
   "metadata": {},
   "source": [
    "# 1.\n",
    "\n",
    "Create a function called `myint` that from a binary number with a 16-bit base finds the corresponding integer. Compare your result with `int(0b1000011100001)`"
   ]
  },
  {
   "cell_type": "code",
   "execution_count": null,
   "id": "3144b67d",
   "metadata": {},
   "outputs": [],
   "source": []
  },
  {
   "cell_type": "markdown",
   "id": "54ef5020",
   "metadata": {},
   "source": [
    "# 2. Approximation of $\\pi$\n",
    "The Maclaurin series for the inverse tangent function converges for $-1 < x \\leq 1$ and is given by:\n",
    "\n",
    "$$\n",
    "\\arctan x = \\lim_{n \\to \\infty} P_n(x) = \\lim_{n \\to \\infty} \\sum_{i=1}^n (-1)^{i+1} \\frac{x^{2i-1}}{2i-1}\n",
    "$$\n",
    "\n",
    "- **Basic approximation**\n",
    "    - Using the fact that $\\tan(\\pi/4) = 1$, implement a Python function that calculates $4P_n(1)$ and determine the minimum number of terms $n$ needed so that $|4P_n(1) - \\pi| < 10^{-3}$. Compare your result with the $\\pi$ value from the numpy library.\n",
    "    - Requiring that the $\\pi$ value is within an error of $10^{-4}$. How many terms of the series would need to be added to achieve this precision? Implement a Python solution to find this value.\n",
    "\n",
    "- **Convergence improvement**\n",
    "    The previous method can be significantly improved using the identity:\n",
    "    $$\n",
    "    \\frac{\\pi}{4} = \\arctan\\left(\\frac{1}{2}\\right) + \\arctan\\left(\\frac{1}{3}\\right)\n",
    "    $$\n",
    "    - Implement a Python function that evaluates the series for $\\arctan(1/2)$ and $\\arctan(1/3)$ separately and then sums them. Determine the minimum number of terms needed for each series (they can be different) to approximate $\\pi$ with an error less than $10^{-3}$ and $10^{-6}$.\n",
    "\n",
    "- **High-precision method**\n",
    "    To obtain even faster convergence, use the identity:\n",
    "    $$\n",
    "    \\frac{\\pi}{4} = 4\\arctan\\left(\\frac{1}{5}\\right) - \\arctan\\left(\\frac{1}{239}\\right)\n",
    "    $$\n",
    "    - The minimum number of terms needed in each series to approximate $\\pi$ with error less than $10^{-3}$ and $10^{-6}$.\n",
    "    - Compare the performance (number of terms required) with the previous methods.\n",
    "\n",
    " "
   ]
  },
  {
   "cell_type": "code",
   "execution_count": null,
   "id": "1d84aed2",
   "metadata": {},
   "outputs": [],
   "source": []
  },
  {
   "cell_type": "markdown",
   "id": "ee226b69",
   "metadata": {},
   "source": [
    "# 3. Exponential Series\n",
    "Consider the series for $e^{-x}$\n",
    "$$\n",
    "e^{-x}=\\sum_{n=0}^{N}  (-1)^n \\frac{x^{n}}{n!}\n",
    "$$\n",
    "- Calculate the series for $x \\leq 1$ and compare it with the built-in function np.exp(-x) (assume the built-in exponential function is exact). Choose an $N$ for which the next term in the series is no more than $10^{-7}$ of the sum up to that point.\n",
    "$$\n",
    "\\left| \\frac{(-x)^{N+1}}{(N+1)!} \\right | \\le \\left| 10^{-7} \\sum_{N=0}^{N} \\frac{(-x)^{n}}{n!} \\right|\n",
    "$$\n",
    "- Examine the terms of the series for $x \\approx 10$ and observe the significant subtractive cancellations that occur when large terms are added to give small answers. In particular, print the near-perfect cancellation at $n \\approx x - 1$.\n",
    "- Check if better precision is obtained by being clever and using $e^{-x} = \\frac{1}{e^x}$ for large values of $x$. This eliminates subtractive cancellation but does not eliminate all rounding errors.\n",
    "- Progressively increasing $x$ from 1 to 10, and then from 10 to 100, use the program to experimentally determine when the series begins to lose precision, and when the series no longer converges.\n",
    "- Create a series of plots of error versus $N$ for different values of $x$.\n"
   ]
  },
  {
   "cell_type": "code",
   "execution_count": null,
   "id": "d579b41e",
   "metadata": {},
   "outputs": [],
   "source": []
  },
  {
   "cell_type": "markdown",
   "id": "0ac68396",
   "metadata": {},
   "source": []
  },
  {
   "cell_type": "code",
   "execution_count": null,
   "id": "d111401f",
   "metadata": {},
   "outputs": [],
   "source": []
  }
 ],
 "metadata": {
  "kernelspec": {
   "display_name": "3.12.6",
   "language": "python",
   "name": "python3"
  },
  "language_info": {
   "name": "python",
   "version": "3.12.6"
  }
 },
 "nbformat": 4,
 "nbformat_minor": 5
}
