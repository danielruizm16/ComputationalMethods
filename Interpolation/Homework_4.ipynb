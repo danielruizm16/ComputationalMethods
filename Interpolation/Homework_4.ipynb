{
 "cells": [
  {
   "cell_type": "markdown",
   "id": "336c19fb",
   "metadata": {},
   "source": [
    "<a href=\"https://colab.research.google.com/github/danielruizm16/ComputationalMethods/blob/main/Interpolation/Homework_4.ipynb\" target=\"_parent\"><img src=\"https://colab.research.google.com/assets/colab-badge.svg\" alt=\"Open In Colab\"/></a>"
   ]
  },
  {
   "cell_type": "markdown",
   "id": "58f0f478",
   "metadata": {},
   "source": [
    "# Homework 04: Interpolation.\n",
    "\n",
    "---\n",
    "### Teacher: Daniel Ruiz Mejía\n",
    "### Name: ______\n",
    "*Computational Methods 2025-II*\n",
    "\n",
    "---"
   ]
  },
  {
   "cell_type": "markdown",
   "id": "aa7c5db5",
   "metadata": {},
   "source": [
    "# 1.\n",
    "\n",
    "The following data define the dissolved oxygen concentration at sea level for fresh water as a function of temperature:\n",
    "```\n",
    "T = np.array([0, 8, 16, 24, 32, 40]) # Temperature in °C\n",
    "o = np.array([14.621, 11.843, 9.870, 8.418, 7.305, 6.413]) # Concentration in mg/L\n",
    "```\n",
    "Estimate $o(27)$ using:\n",
    "- Linear interpolation\n",
    "- Newton interpolation polynomial\n",
    "- Cubic splines"
   ]
  },
  {
   "cell_type": "code",
   "execution_count": null,
   "id": "3ad24eb6",
   "metadata": {},
   "outputs": [],
   "source": [
    "# Here goes you code"
   ]
  },
  {
   "cell_type": "markdown",
   "id": "e317f222",
   "metadata": {},
   "source": [
    "# 2.\n",
    "The values of gravitational acceleration $g$ depend on altitude $y$ as shown in the table. Use Newton's divided difference method to estimate the value of gravitational acceleration at altitudes of 5,000 m, 42,000 m, and 90,000 m. Plot the distribution of the obtained interpolation function together with the given data.\n",
    "\n",
    "```\n",
    "y = [0, 20000, 40000, 60000, 80000] # in meters\n",
    "g = [9.8100, 9.7487, 9.6879, 9.6278, 9.5682] # in m/s²\n",
    "```"
   ]
  },
  {
   "cell_type": "code",
   "execution_count": null,
   "id": "18e5ca6b",
   "metadata": {},
   "outputs": [],
   "source": [
    "# Here goes you code"
   ]
  },
  {
   "cell_type": "markdown",
   "id": "748559c8",
   "metadata": {},
   "source": [
    "# 3.\n",
    "A car traveling along a straight road is timed at several points. The observation data are given in the following table, where time is in seconds, distance in meters, and speed in meters per second.\n",
    "\n",
    "```\n",
    "time = np.array([0, 3, 5, 8, 13]) # seconds\n",
    "distance = np.array([0, 225, 383, 623, 993]) # meters\n",
    "speed = np.array([75, 77, 80, 74, 72]) # meters/second\n",
    "```\n",
    "\n",
    "- Use a Hermite polynomial and Cubic Splines to predict the position of the car and its speed when $t=10$ s.\n",
    "- What is the maximum predicted speed for the car in each case?"
   ]
  },
  {
   "cell_type": "code",
   "execution_count": null,
   "id": "d67b2cf1",
   "metadata": {},
   "outputs": [],
   "source": [
    "# Here goes you code"
   ]
  },
  {
   "cell_type": "markdown",
   "id": "3cd0f01d",
   "metadata": {},
   "source": [
    "# 4.\n",
    "The dataset in the following table represents the displacement $u$ of a spring due to an applied force $F$. Use a program that implements Newton's divided difference method and Lagrange interpolation method to estimate the force required to displace the spring by $0.3 , \\text{m}$ and $0.4 , \\text{m}$. Then, plot the function obtained from the program together with the provided data.\n",
    "\n",
    "```\n",
    "u = np.array([0.107, 0.172, 0.238, 0.351, 0.388, 0.417, 0.432, 0.441]) # displacement (m)\n",
    "F = np.array([100, 200, 300, 400, 500, 600, 700, 800]) # force (kN)\n",
    "```"
   ]
  },
  {
   "cell_type": "code",
   "execution_count": null,
   "id": "3c73f850",
   "metadata": {},
   "outputs": [],
   "source": [
    "# Here goes you code"
   ]
  },
  {
   "cell_type": "markdown",
   "id": "f4bf33fd",
   "metadata": {},
   "source": [
    "# 5.\n",
    "The refractive index of borosilicate glass at different wavelengths is presented in the following table. Estimate the wavelength where the refractive index is 1.520.\n",
    "\n",
    "```\n",
    "lambda_angstrom = np.array([6563, 6439, 5890, 5338, 5086, 4861, 4340, 3988]) # in Å\n",
    "refractive_index = np.array([1.50883, 1.50917, 1.51124, 1.51386, 1.51534, 1.51690, 1.52136, 1.52546])\n",
    "```"
   ]
  },
  {
   "cell_type": "code",
   "execution_count": null,
   "id": "2742e54e",
   "metadata": {},
   "outputs": [],
   "source": [
    "# Here goes you code"
   ]
  }
 ],
 "metadata": {
  "kernelspec": {
   "display_name": "3.12.6",
   "language": "python",
   "name": "python3"
  },
  "language_info": {
   "name": "python",
   "version": "3.12.6"
  }
 },
 "nbformat": 4,
 "nbformat_minor": 5
}
