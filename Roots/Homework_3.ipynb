{
 "cells": [
  {
   "cell_type": "markdown",
   "id": "c0f686f1",
   "metadata": {},
   "source": [
    "<a href=\"https://colab.research.google.com/github/danielruizm16/ComputationalMethods/blob/main/Roots/Homework_3.ipynb\" target=\"_parent\"><img src=\"https://colab.research.google.com/assets/colab-badge.svg\" alt=\"Open In Colab\"/></a>"
   ]
  },
  {
   "cell_type": "markdown",
   "id": "efca13c3",
   "metadata": {},
   "source": [
    "# Homework 03: Roots of equations.\n",
    "\n",
    "---\n",
    "### Teacher: Daniel Ruiz Mejía\n",
    "### Name: ______\n",
    "*Computational Methods 2025-II*\n",
    "\n",
    "---"
   ]
  },
  {
   "cell_type": "markdown",
   "id": "ac677938",
   "metadata": {},
   "source": [
    "# 1.\n",
    "\n",
    "The Halley's method is a root-finding algorithm that uses both the first and second derivatives of a function to achieve cubic convergence. Based on the following steps, write a function that calculates the root of a function. Test it to find the first positive root of $f(x)=\\sin{(x)} +\\cos{(1+x^2)}-1$. Examine the convergence as a function of the tolerance.\n",
    "\n",
    "### Steps\n",
    "\n",
    "\n",
    "1. **Initialization:**\n",
    "    Start with an interval $[a, b]$ where $f(a)$ and $f(b)$ have opposite signs.\n",
    "    - Start with an initial guess $x0$ close to the suspected root.\n",
    "\n",
    "2. **Iteration Formula:**\n",
    "    - At each iteration, evaluate $ f(x_n) $, $ f'(x_n) $, and $ f''(x_n) $.\n",
    "    - Compute the next approximation $x_{n+1}$ using the formula:\n",
    "    $$x_{n+1} = x_n - \\frac{2f(x_n)f'(x_n)}{2[f'(x_n)]^2 - f(x_n)f''(x_n)}$$\n",
    "    This formula is derived from the second-order Taylor expansion and provides cubic convergence.\n",
    "\n",
    "3. ***Convergence Check:**\n",
    "   - Evaluate $ f(x_{n+1}) $.\n",
    "   - If $ |f(x_{n+1})| < \\text{tolerance} $ or $ |x_{n+1} - x_n| < \\text{tolerance} $, then $ x_{n+1} $ is the approximate root.\n",
    "   - Otherwise, set $ x_n = x_{n+1} $ and repeat the process.\n",
    "\n",
    "5. **Stopping Criteria**:\n",
    "   - The iteration stops when either the function value is sufficiently close to zero or the change in the approximate root is smaller than a specified tolerance.\n",
    "   - A maximum number of iterations should also be specified to prevent infinite loops.\n"
   ]
  },
  {
   "cell_type": "code",
   "execution_count": null,
   "id": "c958cc83",
   "metadata": {},
   "outputs": [],
   "source": [
    "# Here goes you code"
   ]
  },
  {
   "cell_type": "markdown",
   "id": "0e6d678b",
   "metadata": {},
   "source": [
    "# 2\n",
    "\n",
    "A total charge $Q$ is uniformly distributed around a ring-shaped conductor of radius $a$. A charge $q$ is located at a distance $x$  horizontally across the center of the ring. The force exerted on the charge by the ring is given by::\n",
    "\n",
    "$$F = \\frac{1}{4\\piϵ_0}\\frac{qQx}{(x^2+a^2)^{3/2}}$$\n",
    "\n",
    "where $q$ y $Q$ de $ 3 \\times 10^{-5}$ C.\n",
    "\n",
    "  - Plot $F(x)$ for a ring of radius $a= 0.85$ m for $0.1\\leq x\\leq 2.0$ m\n",
    "  - Using the Newton-Raphson method and the fixed-point method, find the value of $x$ at which the force equals 1.25 N.\n",
    "  - Determine what happens if we decrease the radius with respect to the force experienced by the charge $q$."
   ]
  },
  {
   "cell_type": "code",
   "execution_count": null,
   "id": "c38f02a4",
   "metadata": {},
   "outputs": [],
   "source": [
    "# Here goes you code"
   ]
  },
  {
   "cell_type": "markdown",
   "id": "e034ad80",
   "metadata": {},
   "source": [
    "# 3.\n",
    "Kepler's equation plays a central role in classical celestial mechanics, because it enables the calculation of angular positions for orbiting objects. For an elliptical orbit, it relates the mean anomaly $M$, the eccentric anomaly $E$, and the eccentricity $e = \\sqrt{1 - b^2/a^2}$ ($a > b$ are semiaxes):\n",
    "\n",
    "$$M = E - e \\sin E.$$\n",
    "\n",
    "\n",
    "The anomalies are defined by astronomers as angular positions: the mean anomaly $M$ is the angular position of the object on a fictitious circular orbit, and, assuming constant angular velocity, it can be related to the lapse of time since the passage through the perihelion:\n",
    "\n",
    "$$M = \\frac{2\\pi}{T} (t - t_0),$$\n",
    "\n",
    "\n",
    "where $T$ is the orbital period and $t_0$ is the time when the object was at the perihelion.\n",
    "\n",
    "For the Halley comet, the relevant parameters have the values: $e = 0.9672671$, $T = 75.9600$ years, and $t_0 = 1986.1113$ years (on February 9, 1986).\n",
    "\n",
    "- Find the eccentric anomaly $E$ of the Halley comet on April 1, 1986, for $t = 1986.2491$. To this end, plot the function\n",
    "\n",
    "$$f(E) = E - e \\sin E - M,$$\n",
    "\n",
    "\n",
    "for $E \\in [0, 1]$ to make sure that the interval contains a single zero and determine it by bisection method.\n",
    "\n",
    "- Plot $E = E(t)$ for a whole period of revolution by using Newton's and secant method to solve\n",
    "\n",
    "$$E - e \\sin E - M(t) = 0,$$\n",
    "\n",
    "\n",
    "with a time step $\\Delta t = T/100$. Use as initial approximation for each new moment of time, $t_i = t_0 + (i - 1) \\Delta t$, the previous value $E(t_{i-1})$, starting with $E(t_0) = 0$."
   ]
  },
  {
   "cell_type": "code",
   "execution_count": null,
   "id": "76989d81",
   "metadata": {},
   "outputs": [],
   "source": [
    "# Here goes you code"
   ]
  },
  {
   "cell_type": "markdown",
   "id": "94693296",
   "metadata": {},
   "source": [
    "# 4.\n",
    "The intensity distribution in Fraunhofer diffraction by a slit of width $W$ and infinite height, illuminated by monochromatic light of wavelength $\\lambda$, is given by:\n",
    "\n",
    "$$I(\\theta) = I_0 \\left[ \\frac{\\sin(\\pi W \\sin \\theta / \\lambda)}{\\pi W \\sin \\theta / \\lambda} \\right]^2,$$\n",
    "\n",
    "where $\\theta$ is the observation angle relative to the incident direction. Introducing the dimensionless variable:\n",
    "\n",
    "$$x = \\pi W \\sin \\theta / \\lambda,$$\n",
    "\n",
    "the intensity and its derivative are expressed as:\n",
    "\n",
    "$$I(x) = I_0 \\left( \\frac{\\sin x}{x} \\right)^2, \\quad I(0) = I_0,$$\n",
    "$$I'(x) = \\frac{2I_0}{x} \\left( \\cos x - \\frac{\\sin x}{x} \\right) \\frac{\\sin x}{x}, \\quad I'(0) = 0.$$\n",
    "\n",
    "- Plot $I(x)$ and $I'(x)$ in the interval $x \\in [-10, 10]$.\n",
    "\n",
    "- Calculate the value $x_{1/2}$ (positive) where $I(x) = I_0/2$, by solving the equation $I(x) - I_0/2 = 0$ with the secant method.\n",
    "\n",
    "- Find the local maxima $x_i \\in [-10, 10]$ by solving $I'(x) = 0$, use a step $h = 0.5$ to separate the roots and apply the regula falsi method to keep them bounded.\n",
    "\n",
    "**Note:**\n",
    "You may take $I_0=1$."
   ]
  },
  {
   "cell_type": "code",
   "execution_count": null,
   "id": "bb6e8c09",
   "metadata": {},
   "outputs": [],
   "source": [
    "# Here goes you code"
   ]
  },
  {
   "cell_type": "markdown",
   "id": "75347f28",
   "metadata": {},
   "source": [
    "# 5.\n",
    "\n",
    "There is a point between the Earth and the Moon, called the Lagrange point $L_1$, where a satellite will orbit the Earth in perfect synchrony with the Moon, always remaining between the two. This works because the inward pull from the Earth and the outward pull from the Moon combine to create exactly the necessary centripetal force to keep the satellite in its orbit.\n",
    "\n",
    "Assuming circular orbits and that the Earth is much more massive than the Moon or the satellite, the distance $r$ from the center of the Earth to the point $L_1$ satisfies:\n",
    "\n",
    "$$\\frac{GM}{r^2} - \\frac{Gm}{(R-r)^2} = \\omega^2 r,$$\n",
    "\n",
    "where $M$ and $m$ are the masses of the Earth and the Moon respectively, $G$ is Newton's gravitational constant and $ \\omega $ is the angular velocity of both the Moon and the satellite.The equation above is a fifth-degree polynomial equation in $r$ (also called a quintic equation). This type of equation cannot be solved exactly in closed form, but it is straightforward to solve numerically. \n",
    "\n",
    "Write a program that uses Newton's method or the secant method to solve for the distance $r$ from the Earth to the $L_1$ point.\n",
    "\n",
    "The values of the various parameters are:\n",
    "\n",
    "$$G = 6.674 \\times 10^{-11} \\, \\text{m}^3 \\text{kg}^{-1} \\text{s}^{-2},$$\n",
    "\n",
    "$$M = 5.974 \\times 10^{24} \\, \\text{kg},$$\n",
    "\n",
    "$$m = 7.348 \\times 10^{22} \\, \\text{kg},$$\n",
    "\n",
    "$$R = 3.844 \\times 10^8 \\, \\text{m},$$\n",
    "\n",
    "$$\\omega = 2.662 \\times 10^{-6} \\, \\text{s}^{-1}.$$\n",
    "\n",
    "You will also need to choose a suitable initial value for $r$, or two initial values if you use the secant method."
   ]
  },
  {
   "cell_type": "code",
   "execution_count": null,
   "id": "3909c3f8",
   "metadata": {},
   "outputs": [],
   "source": [
    "# Here goes you code"
   ]
  }
 ],
 "metadata": {
  "kernelspec": {
   "display_name": "3.12.6",
   "language": "python",
   "name": "python3"
  },
  "language_info": {
   "name": "python",
   "version": "3.12.6"
  }
 },
 "nbformat": 4,
 "nbformat_minor": 5
}
