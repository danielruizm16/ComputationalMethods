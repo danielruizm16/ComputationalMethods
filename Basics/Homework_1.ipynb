{
 "cells": [
  {
   "cell_type": "markdown",
   "id": "981a6e78",
   "metadata": {},
   "source": [
    "<a href=\"https://colab.research.google.com/github/danielruizm16/ComputationalMethods/blob/main/Basics/Lab_1.ipynb\" target=\"_parent\"><img src=\"https://colab.research.google.com/assets/colab-badge.svg\" alt=\"Open In Colab\"/></a>"
   ]
  },
  {
   "cell_type": "markdown",
   "id": "5f3e7a80",
   "metadata": {},
   "source": [
    "# Homework 01: Basic Python, Libraries and Basic Modeling.\n",
    "\n",
    "---\n",
    "### Teacher: Daniel Ruiz Mejía\n",
    "### Name: ______\n",
    "*Computational Methods 2025-II*\n",
    "\n",
    "---"
   ]
  },
  {
   "cell_type": "markdown",
   "id": "415bc21c",
   "metadata": {},
   "source": [
    "# 1.\n",
    "Design a program that, given an input number `a`, returns a boolean variable True or False if it satisfies:\n",
    "\n",
    "- [Deficient numbers](https://en.wikipedia.org/wiki/Deficient_number): the sum of proper divisors is less than the number.\n",
    "\n",
    "The routine should be called numeros_defectivos\n",
    "\n",
    "- [Abundant numbers](https://en.wikipedia.org/wiki/Abundant_number): the sum of proper divisors is greater than the number.\n",
    "\n",
    "The routine should be called numeros_abundantes\n",
    "\n",
    "- [Semiperfect numbers](https://en.wikipedia.org/wiki/Semiperfect_number): the sum of all or some of the proper divisors equals the number.\n",
    "\n",
    "The routine should be called numeros_semiperfectos\n",
    "\n",
    "- [Perfect numbers](https://en.wikipedia.org/wiki/Perfect_number): the sum of all its proper divisors (excluding the number itself) equals the number.\n",
    "\n",
    "The routine should be called numeros_perfectos\n",
    "\n",
    "- [Prime numbers](https://en.wikipedia.org/wiki/Prime_number): the number is divisible only by itself and 1.\n",
    "\n",
    "The routine should be called numeros_primos\n",
    "\n",
    "**Optional problem**\n",
    "\n",
    "Return the first 30 numbers of each class."
   ]
  },
  {
   "cell_type": "code",
   "execution_count": null,
   "id": "c317e348",
   "metadata": {},
   "outputs": [],
   "source": [
    "# Here goes your code"
   ]
  },
  {
   "cell_type": "markdown",
   "id": "b9b6eebb",
   "metadata": {},
   "source": [
    "# 2.\n",
    "A useful feature of user-defined functions is recursion, the ability of a function to call itself. For example, consider the following definition of the factorial $n!$ of a positive integer $n$:\n",
    "\n",
    "$$\n",
    "n! = \n",
    "\\begin{cases} \n",
    "1 & \\text{si } n = 1, \\\\ \n",
    "n \\times (n - 1)! & \\text{si } n > 1.\n",
    "\\end{cases}$$\n",
    "\n",
    "This constitutes a complete definition of the factorial that allows us to calculate the value of $n!$ for any positive integer. We can use this definition directly to create a Python function for factorials, like this:\n",
    "\n",
    "```python\n",
    "def factorial(n):\n",
    "    if n == 1:\n",
    "        return 1\n",
    "    else:\n",
    "        return n * factorial(n-1)\n",
    "```\n",
    "\n",
    "- The Catalan numbers $C_n$ appeared previously in class. The definition given there can be rewritten as:\n",
    "\n",
    "$$\n",
    "C_n = \n",
    "\\begin{cases} \n",
    "1 & \\text{si } n = 0, \\\\\n",
    "\\frac{4n - 2}{n + 1} \\, C_{n-1} & \\text{si } n > 0.\n",
    "\\end{cases}$$\n",
    "Write a Python function, using recursion, that computes $C_n$. Use your function to compute and print $C_{50}$.\n",
    "\n",
    "- Euclid demonstrated that the greatest common divisor $g(m, n)$ of two non-negative integers $m$ and $n$ satisfies:\n",
    "$$\n",
    "g(m, n) =\n",
    "\\begin{cases} \n",
    "m & \\text{si } n = 0, \\\\\n",
    "g(n, m \\bmod n) & \\text{si } n > 0.\n",
    "\\end{cases}$$\n",
    "Write a Python function $g(m, n)$ that uses recursion to compute the greatest common divisor of $m$ and $n$ using this formula. Use your function to compute and print the greatest common divisor of 108 and 192."
   ]
  },
  {
   "cell_type": "code",
   "execution_count": null,
   "id": "9136e453",
   "metadata": {},
   "outputs": [],
   "source": [
    "# Here goes your code"
   ]
  },
  {
   "cell_type": "markdown",
   "id": "917e9bfd",
   "metadata": {},
   "source": [
    "# 3.\n",
    "A projectile is launched from an initial height $y_0 = 0$ with an initial velocity of $4.0, \\text{m/s}$ at $45^\\circ$ to the horizontal. Plot the trajectory of the projectile in its plane of motion (considering the $x$-axis parallel to the horizontal and the origin at the initial position of the projectile) from the launch point to the point where it impacts the ground (assuming flat terrain). The plot must include axis labels and a title. Recall that the equations of parabolic motion are given by\n",
    "\n",
    "$$\n",
    "\\text{Horizontal position:} \\quad x(t) = v_{0x} t = v_0 \\cos\\theta \\cdot t \n",
    "$$\n",
    "$$\n",
    "\\text{Vertical position:} \\quad y(t) = y_0 + v_{0y} t - \\frac{1}{2}gt^2 = y_0 + v_0 \\sin\\theta \\cdot t - \\frac{1}{2}gt^2 \n",
    "$$\n",
    "$$\n",
    "\\text{Horizontal velocity:} \\quad v_x(t) = v_{0x} =v_0 \\cos \\theta= \\text{constante} \n",
    "$$\n",
    "$$\n",
    "\\text{Vertical velocity:} \\quad v_y(t) = v_{0y} - gt = v_0 \\sin\\theta - gt\n",
    "$$"
   ]
  },
  {
   "cell_type": "code",
   "execution_count": null,
   "id": "91521f1a",
   "metadata": {},
   "outputs": [],
   "source": [
    "# Here goes your code"
   ]
  },
  {
   "cell_type": "markdown",
   "id": "8823b22b",
   "metadata": {},
   "source": [
    "# 4.\n",
    "\n",
    "The orbit in space of one body around another, such as a planet around the Sun, does not need to be circular. In general, it takes the form of an ellipse, with the body sometimes closer and sometimes farther away. If the distance $\\ell_{1}$ of the closest approach a planet makes to the Sun, called perihelion, and its linear velocity $v_{1}$ at perihelion are known, then any other property of the orbit can be calculated from these two data as follows.\n",
    "\n",
    "Kepler's second law tells us that the distance $\\ell_{2}$ and velocity $v_{2}$ of the planet at its most distant point, or aphelion, satisfy $\\ell_{2}v_{2}=\\ell_{1}v_{1}$. At the same time, the total energy, kinetic plus gravitational, of a planet with velocity $v$ and distance $r$ from the Sun is given by\n",
    "\n",
    "$$\n",
    "    E = \\tfrac{1}{2}mv^{2} - G\\frac{mM}{r},\n",
    "$$\n",
    "\n",
    "where $m$ is the mass of the planet, $M=1.9891\\times 10^{30},\\mathrm{kg}$ is the mass of the Sun, and $G=6.6738\\times 10^{-11},\\mathrm{m}^{3},\\mathrm{kg}^{-1},\\mathrm{s}^{-2}$ is Newton's gravitational constant. Since energy must be conserved, it follows that $v_{2}$ is the smallest root of the quadratic equation\n",
    "\n",
    " $$\n",
    "    v_{2}^{2} - \\frac{2GM}{v_{1}\\ell_{1}}v_{2} - \\left[v_{1}^{2} - \\frac{2GM}{\\ell_{1}}\\right] = 0.\n",
    "$$\n",
    "\n",
    "Once $v_{2}$ is obtained, we can calculate $\\ell_{2}$ using the relation $\\ell_{2}=\\ell_{1}v_{1}/v_{2}$.\n",
    "\n",
    "- Given the values of $v_{1}$, $\\ell_{1}$, and $\\ell_{2}$, other parameters of the orbit are given by simple formulas that can be derived from Kepler's laws and the fact that the orbit is an ellipse:\n",
    "\n",
    "$$\n",
    "    \\text{Semi-major axis:}  \\quad a = \\tfrac{1}{2}(\\ell_{1}+\\ell_{2}), \n",
    "$$\n",
    "$$\n",
    "    \\text{Semi-minor axis:}  \\quad b = \\sqrt{\\ell_{1}\\ell_{2}}, \n",
    "$$\n",
    "$$\n",
    "    \\text{Orbital period:}  \\quad T = \\frac{2\\pi ab}{\\ell_{1}v_{1}}, \n",
    "$$\n",
    "$$\n",
    "    \\text{Orbital eccentricity:}  \\quad e = \\frac{\\ell_{2}-\\ell_{1}}{\\ell_{2}+\\ell_{1}}.\n",
    "$$\n",
    "\n",
    "Write a program that asks the user to enter the distance to the Sun and the velocity at perihelion, then calculates and prints the quantities $\\ell_{2}$, $v_{2}$, $T$, and $e$.\n",
    "\n",
    "- Test your program by calculating the properties of the orbits of Earth (for which $\\ell_{1}=1.4710\\times 10^{11},\\mathrm{m}$ and $v_{1}=3.0287\\times 10^{4},\\mathrm{m},\\mathrm{s}^{-1}$) and Halley's comet ($\\ell_{1}=8.7830\\times 10^{10},\\mathrm{m}$ and $v_{1}=5.4529\\times 10^{4},\\mathrm{m},\\mathrm{s}^{-1}$). Among other things, you should find that the orbital period of Earth is one year and that of Halley's comet is about 76 years."
   ]
  },
  {
   "cell_type": "code",
   "execution_count": null,
   "id": "37317ab4",
   "metadata": {},
   "outputs": [],
   "source": [
    "# Here goes your code"
   ]
  }
 ],
 "metadata": {
  "kernelspec": {
   "display_name": "3.12.6",
   "language": "python",
   "name": "python3"
  },
  "language_info": {
   "codemirror_mode": {
    "name": "ipython",
    "version": 3
   },
   "file_extension": ".py",
   "mimetype": "text/x-python",
   "name": "python",
   "nbconvert_exporter": "python",
   "pygments_lexer": "ipython3",
   "version": "3.12.6"
  }
 },
 "nbformat": 4,
 "nbformat_minor": 5
}
